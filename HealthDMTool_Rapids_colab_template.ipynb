{
  "nbformat": 4,
  "nbformat_minor": 0,
  "metadata": {
    "colab": {
      "provenance": [],
      "collapsed_sections": [],
      "toc_visible": true,
      "include_colab_link": true
    },
    "kernelspec": {
      "name": "python3",
      "display_name": "Python 3"
    },
    "accelerator": "GPU"
  },
  "cells": [
    {
      "cell_type": "markdown",
      "metadata": {
        "id": "view-in-github",
        "colab_type": "text"
      },
      "source": [
        "<a href=\"https://colab.research.google.com/github/mustain-billah/healthdmtool/blob/main/HealthDMTool_Rapids_colab_template.ipynb\" target=\"_parent\"><img src=\"https://colab.research.google.com/assets/colab-badge.svg\" alt=\"Open In Colab\"/></a>"
      ]
    },
    {
      "cell_type": "markdown",
      "metadata": {
        "id": "scfLT2i0MLyD"
      },
      "source": [
        "# Environment Sanity Check #\n",
        "\n",
        "Click the _Runtime_ dropdown at the top of the page, then _Change Runtime Type_ and confirm the instance type is _GPU_.\n",
        "\n",
        "Check the output of `!nvidia-smi` to make sure you've been allocated a Tesla T4, P4, or P100."
      ]
    },
    {
      "cell_type": "code",
      "metadata": {
        "id": "67T0090Jk2KL"
      },
      "source": [
        "!nvidia-smi"
      ],
      "execution_count": null,
      "outputs": []
    },
    {
      "cell_type": "markdown",
      "metadata": {
        "id": "CtNdk7PSafKP"
      },
      "source": [
        "#Setup:\n",
        "Set up script installs\n",
        "1. Updates gcc in Colab\n",
        "1. Installs Conda\n",
        "1. Install RAPIDS' current stable version of its libraries, as well as some external libraries including:\n",
        "  1. cuDF\n",
        "  1. cuML\n",
        "  1. cuGraph\n",
        "  1. cuSpatial\n",
        "  1. cuSignal\n",
        "  1. BlazingSQL\n",
        "  1. xgboost\n",
        "1. Copy RAPIDS .so files into current working directory, a neccessary workaround for RAPIDS+Colab integration.\n"
      ]
    },
    {
      "cell_type": "code",
      "source": [
        "!pip install pynvml"
      ],
      "metadata": {
        "id": "N8laUEYt4YwX"
      },
      "execution_count": null,
      "outputs": []
    },
    {
      "cell_type": "code",
      "metadata": {
        "id": "B0C8IV5TQnjN"
      },
      "source": [
        "# This get the RAPIDS-Colab install files and test check your GPU.  Run this and the next cell only.\n",
        "# Please read the output of this cell.  If your Colab Instance is not RAPIDS compatible, it will warn you and give you remediation steps.\n",
        "!git clone https://github.com/rapidsai/rapidsai-csp-utils.git\n",
        "!python rapidsai-csp-utils/colab/env-check.py"
      ],
      "execution_count": null,
      "outputs": []
    },
    {
      "cell_type": "code",
      "metadata": {
        "id": "4sKA_9Dbg4s2"
      },
      "source": [
        "# This will update the Colab environment and restart the kernel.  Don't run the next cell until you see the session crash.\n",
        "!bash rapidsai-csp-utils/colab/update_gcc.sh\n",
        "import os\n",
        "os._exit(00)"
      ],
      "execution_count": null,
      "outputs": []
    },
    {
      "cell_type": "code",
      "metadata": {
        "id": "d1C4pNiBhYHX",
        "outputId": "a06c45fe-7517-4705-ddbc-0357e4806902",
        "colab": {
          "base_uri": "https://localhost:8080/"
        }
      },
      "source": [
        "# This will install CondaColab.  This will restart your kernel one last time.  Run this cell by itself and only run the next cell once you see the session crash.\n",
        "import condacolab\n",
        "condacolab.install()"
      ],
      "execution_count": null,
      "outputs": [
        {
          "output_type": "stream",
          "name": "stdout",
          "text": [
            "⏬ Downloading https://github.com/jaimergp/miniforge/releases/latest/download/Mambaforge-colab-Linux-x86_64.sh...\n",
            "📦 Installing...\n",
            "📌 Adjusting configuration...\n",
            "🩹 Patching environment...\n",
            "⏲ Done in 0:00:21\n",
            "🔁 Restarting kernel...\n"
          ]
        }
      ]
    },
    {
      "cell_type": "code",
      "metadata": {
        "id": "-Ko_pJZbhZrM",
        "outputId": "5207d352-1f14-4153-e197-d3994abd33dc",
        "colab": {
          "base_uri": "https://localhost:8080/"
        }
      },
      "source": [
        "# you can now run the rest of the cells as normal\n",
        "import condacolab\n",
        "condacolab.check()"
      ],
      "execution_count": null,
      "outputs": [
        {
          "output_type": "stream",
          "name": "stdout",
          "text": [
            "✨🍰✨ Everything looks OK!\n"
          ]
        }
      ]
    },
    {
      "cell_type": "code",
      "metadata": {
        "id": "G_2dancFhf70"
      },
      "source": [
        "# Installing RAPIDS is now 'python rapidsai-csp-utils/colab/install_rapids.py <release> <packages>'\n",
        "# The <release> options are 'stable' and 'nightly'.  Leaving it blank or adding any other words will default to stable.\n",
        "!python rapidsai-csp-utils/colab/install_rapids.py stable\n",
        "import os\n",
        "os.environ['NUMBAPRO_NVVM'] = '/usr/local/cuda/nvvm/lib64/libnvvm.so'\n",
        "os.environ['NUMBAPRO_LIBDEVICE'] = '/usr/local/cuda/nvvm/libdevice/'\n",
        "os.environ['CONDA_PREFIX'] = '/usr/local'"
      ],
      "execution_count": null,
      "outputs": []
    },
    {
      "cell_type": "markdown",
      "metadata": {
        "id": "pZJMJ6BulmMn"
      },
      "source": [
        "# RAPIDS is now installed on Colab.  You can copy your code into the cells below.  Enjoy!"
      ]
    },
    {
      "cell_type": "code",
      "source": [
        "from google.colab import drive\n",
        "drive.mount('/content/drive')"
      ],
      "metadata": {
        "id": "l-Q7e98xCPxY",
        "outputId": "e04cc7a0-afdb-4785-fb89-0aa0b5a81ae2",
        "colab": {
          "base_uri": "https://localhost:8080/"
        }
      },
      "execution_count": null,
      "outputs": [
        {
          "output_type": "stream",
          "name": "stdout",
          "text": [
            "Mounted at /content/drive\n"
          ]
        }
      ]
    },
    {
      "cell_type": "code",
      "source": [
        "import timeit\n",
        "import pandas as pd\n",
        "import numpy as np\n",
        "import seaborn as sns\n",
        "import matplotlib.pyplot as plt\n",
        "from sklearn.model_selection import train_test_split\n",
        "\n",
        "# from sklearn.ensemble import RandomForestClassifier\n",
        "# from cuml import RandomForestClassifier\n",
        "from cuml.ensemble import RandomForestClassifier\n",
        "\n",
        "\n",
        "from sklearn.tree import DecisionTreeClassifier\n",
        "from sklearn import metrics\n",
        "from sklearn.metrics import classification_report, confusion_matrix\n",
        "from sklearn.metrics import roc_curve\n",
        "from sklearn.metrics import roc_auc_score\n",
        "import warnings\n",
        "%matplotlib inline\n",
        "warnings.filterwarnings('ignore')\n",
        "#warnings.filterwarnings('always') \n",
        "\n",
        "# Copy the path of the .csv file produced earlier\n",
        "dataset=pd.read_csv('/content/drive/MyDrive/Colab Notebooks/Zia Sir/20-09-22/abc_less_feature.csv')\n",
        "\n",
        "print(list(dataset.columns))\n",
        "feature_cols= list(dataset.columns[:-1])\n",
        "\n",
        "target_cols=list(dataset.columns[-1:])\n",
        "#target_cols\n",
        "\n",
        "#split dataset in features and target variable\n",
        "X = dataset.drop('readmitted', axis=1) # Features\n",
        "y = dataset['readmitted'] # Target variable\n",
        "\n",
        "# Split dataset into training set and test set\n",
        "X_train, X_test, y_train, y_test = train_test_split(X, y, test_size=0.3, random_state=1) # 70% training and 30% test\n",
        "\n",
        "from sklearn.preprocessing import StandardScaler \n",
        "scaler = StandardScaler() \n",
        "X_train = scaler.fit_transform(X_train) \n",
        "X_test = scaler.transform(X_test) \n",
        "# Check the shape of all of these\n",
        "# print(\"X_train shape is : \", X_train.shape)\n",
        "# print(\"X_test shape  is : \", X_test.shape)\n",
        "# print(\"y_train shape is : \", y_train.shape)\n",
        "# print(\"y_test shape is  : \", y_test.shape)\n",
        "\n",
        "#Calculate start time\n",
        "start = timeit.default_timer()\n",
        "\n",
        "#Create a Gaussian Classifier\n",
        "clf=RandomForestClassifier(n_estimators=100)\n",
        "# clf = DecisionTreeClassifier(max_depth = 2, random_state = 0)\n",
        "\n",
        "#Train the model using the training sets y_pred=clf.predict(X_test)\n",
        "clf.fit(X_train,y_train)\n",
        "\n",
        "#Calculate Stop time\n",
        "stop = timeit.default_timer()\n",
        "train_time= stop - start\n",
        "\n",
        "#Calculate start time\n",
        "start = timeit.default_timer()\n",
        "\n",
        "# Predict the model\n",
        "y_pred=clf.predict(X_test)\n",
        "\n",
        "#Calculate Stop time\n",
        "stop = timeit.default_timer()\n",
        "test_time= stop - start\n",
        "\n",
        "print(confusion_matrix(y_test,y_pred))\n",
        "print(classification_report(y_test,y_pred))"
      ],
      "metadata": {
        "id": "VMcgynNICNj1",
        "outputId": "6f355f4f-91c6-4545-b77f-d02eeeb3eeac",
        "colab": {
          "base_uri": "https://localhost:8080/"
        }
      },
      "execution_count": null,
      "outputs": [
        {
          "output_type": "stream",
          "name": "stdout",
          "text": [
            "['encounter_id', 'patient_nbr', 'race', 'age', 'admission_type_id', 'discharge_disposition_id', 'admission_source_id', 'time_in_hospital', 'num_lab_procedures', 'num_procedures', 'num_medications', 'number_diagnoses', 'max_glu_serum', 'A1Cresult', 'change', 'diabetesMed', 'service_utilization', 'numchange', 'readmitted']\n",
            "[[27144     6]\n",
            " [ 3366    14]]\n",
            "              precision    recall  f1-score   support\n",
            "\n",
            "           0       0.89      1.00      0.94     27150\n",
            "           1       0.70      0.00      0.01      3380\n",
            "\n",
            "    accuracy                           0.89     30530\n",
            "   macro avg       0.79      0.50      0.47     30530\n",
            "weighted avg       0.87      0.89      0.84     30530\n",
            "\n"
          ]
        }
      ]
    },
    {
      "cell_type": "code",
      "source": [
        "train_time"
      ],
      "metadata": {
        "id": "BzVwy-5MESTR",
        "outputId": "167c5893-8603-48c4-af91-a9ce4ebe51a3",
        "colab": {
          "base_uri": "https://localhost:8080/"
        }
      },
      "execution_count": null,
      "outputs": [
        {
          "output_type": "execute_result",
          "data": {
            "text/plain": [
              "0.6738670780005123"
            ]
          },
          "metadata": {},
          "execution_count": 34
        }
      ]
    },
    {
      "cell_type": "code",
      "source": [
        "test_time"
      ],
      "metadata": {
        "id": "sks8sNZ2IYNK",
        "outputId": "5f29cd35-9574-448a-e359-1d7ca075e4b4",
        "colab": {
          "base_uri": "https://localhost:8080/"
        }
      },
      "execution_count": null,
      "outputs": [
        {
          "output_type": "execute_result",
          "data": {
            "text/plain": [
              "3.049651723000352"
            ]
          },
          "metadata": {},
          "execution_count": 35
        }
      ]
    },
    {
      "cell_type": "markdown",
      "metadata": {
        "id": "Dlsyk9m9NN2K"
      },
      "source": [
        "# Next Steps #\n",
        "\n",
        "For an overview of how you can access and work with your own datasets in Colab, check out [this guide](https://towardsdatascience.com/3-ways-to-load-csv-files-into-colab-7c14fcbdcb92).\n",
        "\n",
        "For more RAPIDS examples, check out our RAPIDS notebooks repos:\n",
        "1. https://github.com/rapidsai/notebooks\n",
        "2. https://github.com/rapidsai/notebooks-contrib"
      ]
    },
    {
      "cell_type": "code",
      "metadata": {
        "id": "4nLrk46BllED"
      },
      "source": [],
      "execution_count": null,
      "outputs": []
    },
    {
      "cell_type": "code",
      "source": [
        "# This code is for comparing the speed of sklearn and cuml\n",
        "from sklearn import datasets\n",
        "import numpy as np\n",
        "X, y  = datasets.make_classification(n_samples=40000)\n",
        "X = X.astype(np.float32)\n",
        "y = y.astype(np.float32)\n",
        "def train_data(model, X=X, y=y):\n",
        "    clf = model\n",
        "    clf.fit(X, y)\n",
        "from sklearn.svm import SVC \n",
        "from cuml.svm import SVC as SVC_gpu\n",
        "\n",
        "clf_svc = SVC(kernel='poly', degree=2, gamma='auto', C=1)\n",
        "sklearn_time_svc = %timeit -o train_data(clf_svc)\n",
        "\n",
        "clf_svc = SVC_gpu(kernel='poly', degree=2, gamma='auto', C=1)\n",
        "cuml_time_svc = %timeit -o train_data(clf_svc)\n",
        "\n",
        "print(f\"\"\"Average time of sklearn's {clf_svc.__class__.__name__}\"\"\", sklearn_time_svc.average, 's')\n",
        "print(f\"\"\"Average time of cuml's {clf_svc.__class__.__name__}\"\"\", cuml_time_svc.average, 's')\n",
        "\n",
        "print('Ratio between sklearn and cuml is', sklearn_time_svc.average/cuml_time_svc.average)"
      ],
      "metadata": {
        "id": "bGN7AjLs_Aph"
      },
      "execution_count": null,
      "outputs": []
    }
  ]
}